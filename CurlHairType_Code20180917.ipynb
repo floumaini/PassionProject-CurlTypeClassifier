{
 "cells": [
  {
   "cell_type": "markdown",
   "metadata": {
    "toc": true
   },
   "source": [
    "<h1>Table of Contents<span class=\"tocSkip\"></span></h1>\n",
    "<div class=\"toc\"><ul class=\"toc-item\"><li><span><a href=\"#CNN-from-Scratch:-No-Data-Augmentation\" data-toc-modified-id=\"CNN-from-Scratch:-No-Data-Augmentation-1\"><span class=\"toc-item-num\">1&nbsp;&nbsp;</span>CNN from Scratch: No Data Augmentation</a></span></li><li><span><a href=\"#Feature-extraction:-Transfer-learning\" data-toc-modified-id=\"Feature-extraction:-Transfer-learning-2\"><span class=\"toc-item-num\">2&nbsp;&nbsp;</span>Feature extraction: Transfer learning</a></span></li></ul></div>"
   ]
  },
  {
   "cell_type": "markdown",
   "metadata": {},
   "source": [
    "# CNN from Scratch: No Data Augmentation"
   ]
  },
  {
   "cell_type": "code",
   "execution_count": 13,
   "metadata": {
    "ExecuteTime": {
     "end_time": "2019-09-17T17:46:23.955286Z",
     "start_time": "2019-09-17T17:46:23.949107Z"
    }
   },
   "outputs": [],
   "source": [
    "from keras.preprocessing.image import ImageDataGenerator\n",
    "from keras.models import Sequential\n",
    "from keras.layers import Conv2D, MaxPooling2D\n",
    "from keras.layers import Activation, Dropout, Flatten, Dense\n",
    "from keras import regularizers\n",
    "from keras import backend as K\n",
    "import keras"
   ]
  },
  {
   "cell_type": "code",
   "execution_count": 2,
   "metadata": {
    "ExecuteTime": {
     "end_time": "2019-09-12T17:59:45.875805Z",
     "start_time": "2019-09-12T17:59:45.395141Z"
    }
   },
   "outputs": [
    {
     "name": "stdout",
     "output_type": "stream",
     "text": [
      "WARNING:tensorflow:From /anaconda3/envs/metis/lib/python3.7/site-packages/tensorflow/python/framework/op_def_library.py:263: colocate_with (from tensorflow.python.framework.ops) is deprecated and will be removed in a future version.\n",
      "Instructions for updating:\n",
      "Colocations handled automatically by placer.\n",
      "WARNING:tensorflow:From /anaconda3/envs/metis/lib/python3.7/site-packages/keras/backend/tensorflow_backend.py:3445: calling dropout (from tensorflow.python.ops.nn_ops) with keep_prob is deprecated and will be removed in a future version.\n",
      "Instructions for updating:\n",
      "Please use `rate` instead of `keep_prob`. Rate should be set to `rate = 1 - keep_prob`.\n",
      "_________________________________________________________________\n",
      "Layer (type)                 Output Shape              Param #   \n",
      "=================================================================\n",
      "conv2d_1 (Conv2D)            (None, 150, 150, 32)      896       \n",
      "_________________________________________________________________\n",
      "activation_1 (Activation)    (None, 150, 150, 32)      0         \n",
      "_________________________________________________________________\n",
      "max_pooling2d_1 (MaxPooling2 (None, 75, 75, 32)        0         \n",
      "_________________________________________________________________\n",
      "batch_normalization_1 (Batch (None, 75, 75, 32)        128       \n",
      "_________________________________________________________________\n",
      "dropout_1 (Dropout)          (None, 75, 75, 32)        0         \n",
      "_________________________________________________________________\n",
      "conv2d_2 (Conv2D)            (None, 75, 75, 32)        9248      \n",
      "_________________________________________________________________\n",
      "activation_2 (Activation)    (None, 75, 75, 32)        0         \n",
      "_________________________________________________________________\n",
      "max_pooling2d_2 (MaxPooling2 (None, 37, 37, 32)        0         \n",
      "_________________________________________________________________\n",
      "conv2d_3 (Conv2D)            (None, 37, 37, 32)        9248      \n",
      "_________________________________________________________________\n",
      "activation_3 (Activation)    (None, 37, 37, 32)        0         \n",
      "_________________________________________________________________\n",
      "max_pooling2d_3 (MaxPooling2 (None, 18, 18, 32)        0         \n",
      "_________________________________________________________________\n",
      "batch_normalization_2 (Batch (None, 18, 18, 32)        128       \n",
      "_________________________________________________________________\n",
      "dropout_2 (Dropout)          (None, 18, 18, 32)        0         \n",
      "_________________________________________________________________\n",
      "batch_normalization_3 (Batch (None, 18, 18, 32)        128       \n",
      "_________________________________________________________________\n",
      "dropout_3 (Dropout)          (None, 18, 18, 32)        0         \n",
      "_________________________________________________________________\n",
      "conv2d_4 (Conv2D)            (None, 18, 18, 32)        9248      \n",
      "_________________________________________________________________\n",
      "activation_4 (Activation)    (None, 18, 18, 32)        0         \n",
      "_________________________________________________________________\n",
      "global_average_pooling2d_1 ( (None, 32)                0         \n",
      "_________________________________________________________________\n",
      "dropout_4 (Dropout)          (None, 32)                0         \n",
      "_________________________________________________________________\n",
      "dense_1 (Dense)              (None, 10)                330       \n",
      "_________________________________________________________________\n",
      "activation_5 (Activation)    (None, 10)                0         \n",
      "=================================================================\n",
      "Total params: 29,354\n",
      "Trainable params: 29,162\n",
      "Non-trainable params: 192\n",
      "_________________________________________________________________\n"
     ]
    }
   ],
   "source": [
    "# dimensions of our images.\n",
    "img_width, img_height = 150, 150\n",
    "\n",
    "train_data_dir = '/Users/fatimaloumaini/Documents/PassionProject copy/Train'\n",
    "validation_data_dir = '/Users/fatimaloumaini/Documents/PassionProject copy/Validation'\n",
    "test_data_dir = '/Users/fatimaloumaini/Documents/PassionProject copy/Test'\n",
    "nb_train_samples = 770\n",
    "nb_validation_samples = 90\n",
    "nb_test_samples = 90\n",
    "epochs = 10\n",
    "batch_size = 5\n",
    "dropout_rate = .25\n",
    "\n",
    "if K.image_data_format() == 'channels_first':\n",
    "    input_shape = (3, img_width, img_height)\n",
    "else:\n",
    "    input_shape = (img_width, img_height, 3)\n",
    "\n",
    "model = Sequential()\n",
    "model.add(Conv2D(32, (3, 3), padding='same', input_shape=input_shape))\n",
    "model.add(Activation('relu'))\n",
    "model.add(MaxPooling2D(pool_size=(2, 2)))\n",
    "model.add(keras.layers.BatchNormalization())\n",
    "model.add(Dropout(dropout_rate))\n",
    "\n",
    "\n",
    "model.add(Conv2D(32, (3, 3), padding='same', ))\n",
    "model.add(Activation('relu'))\n",
    "model.add(MaxPooling2D(pool_size=(2, 2)))\n",
    "\n",
    "model.add(Conv2D(32, (3, 3), padding='same', input_shape=input_shape))\n",
    "model.add(Activation('relu'))\n",
    "model.add(MaxPooling2D(pool_size=(2, 2)))\n",
    "model.add(keras.layers.BatchNormalization())\n",
    "model.add(Dropout(dropout_rate))\n",
    "\n",
    "\n",
    "model.add(keras.layers.BatchNormalization())\n",
    "model.add(Dropout(dropout_rate))\n",
    "\n",
    "model.add(Conv2D(32, (3, 3), padding='same', ))\n",
    "model.add(Activation('relu'))\n",
    "# model.add(MaxPooling2D(pool_size=(2, 2)))\n",
    "\n",
    "# model.add(keras.layers.BatchNormalization())\n",
    "\n",
    "model.add(keras.layers.GlobalAveragePooling2D())\n",
    "# model.add(Dense(64))\n",
    "# model.add(Activation('relu'))\n",
    "model.add(Dropout(dropout_rate))\n",
    "model.add(Dense(10)) # TODO: make units equal to num of classes \n",
    "model.add(Activation('softmax')) # TODO: make act 'softmax' \n",
    "\n",
    "model.summary()\n"
   ]
  },
  {
   "cell_type": "code",
   "execution_count": 3,
   "metadata": {
    "ExecuteTime": {
     "end_time": "2019-09-12T18:02:40.950012Z",
     "start_time": "2019-09-12T17:59:45.888226Z"
    }
   },
   "outputs": [
    {
     "name": "stdout",
     "output_type": "stream",
     "text": [
      "Found 577 images belonging to 10 classes.\n",
      "Found 71 images belonging to 10 classes.\n",
      "Found 71 images belonging to 10 classes.\n",
      "WARNING:tensorflow:From /anaconda3/envs/metis/lib/python3.7/site-packages/tensorflow/python/ops/math_ops.py:3066: to_int32 (from tensorflow.python.ops.math_ops) is deprecated and will be removed in a future version.\n",
      "Instructions for updating:\n",
      "Use tf.cast instead.\n",
      "Epoch 1/10\n",
      "115/115 [==============================] - 20s 174ms/step - loss: 2.2844 - acc: 0.1600 - val_loss: 2.2576 - val_acc: 0.1429\n",
      "Epoch 2/10\n",
      "115/115 [==============================] - 17s 147ms/step - loss: 2.2661 - acc: 0.1600 - val_loss: 2.2491 - val_acc: 0.1364\n",
      "Epoch 3/10\n",
      "115/115 [==============================] - 17s 152ms/step - loss: 2.1975 - acc: 0.1913 - val_loss: 2.6250 - val_acc: 0.2273\n",
      "Epoch 4/10\n",
      "115/115 [==============================] - 17s 151ms/step - loss: 2.2053 - acc: 0.1896 - val_loss: 2.4731 - val_acc: 0.2121\n",
      "Epoch 5/10\n",
      "115/115 [==============================] - 17s 148ms/step - loss: 2.1675 - acc: 0.2017 - val_loss: 2.2059 - val_acc: 0.1970\n",
      "Epoch 6/10\n",
      "115/115 [==============================] - 17s 146ms/step - loss: 2.1821 - acc: 0.1913 - val_loss: 2.3796 - val_acc: 0.2121\n",
      "Epoch 7/10\n",
      "115/115 [==============================] - 16s 141ms/step - loss: 2.1345 - acc: 0.2052 - val_loss: 2.5581 - val_acc: 0.2273\n",
      "Epoch 8/10\n",
      "115/115 [==============================] - 16s 142ms/step - loss: 2.1383 - acc: 0.2174 - val_loss: 2.2259 - val_acc: 0.1667\n",
      "Epoch 9/10\n",
      "115/115 [==============================] - 17s 149ms/step - loss: 2.1684 - acc: 0.1809 - val_loss: 2.7066 - val_acc: 0.2273\n",
      "Epoch 10/10\n",
      "115/115 [==============================] - 18s 157ms/step - loss: 2.1015 - acc: 0.2443 - val_loss: 1.9830 - val_acc: 0.2879\n"
     ]
    }
   ],
   "source": [
    "# model.compile(loss='binary_crossentropy', # TODO: make loss categorical_crossentropy for one-hot encoded y labels (or sparse_categorical_crossentropy for label indexes) \n",
    "#               optimizer='rmsprop',\n",
    "#               metrics=['accuracy'])\n",
    "\n",
    "\n",
    "model.compile(loss='categorical_crossentropy', # TODO: make loss categorical_crossentropy for one-hot encoded y labels (or sparse_categorical_crossentropy for label indexes) \n",
    "              optimizer='adam',\n",
    "              metrics=['accuracy'])\n",
    "\n",
    "# this is the augmentation configuration we will use for training\n",
    "train_datagen = ImageDataGenerator( rotation_range=40,\n",
    "      width_shift_range=0.2,\n",
    "      height_shift_range=0.2,\n",
    "      shear_range=0.2,\n",
    "      zoom_range=0.2,\n",
    "      horizontal_flip=True,\n",
    "      #rescale=1. / 255,\n",
    "      fill_mode='nearest')\n",
    "     \n",
    "#     shear_range=0.2,\n",
    "#     zoom_range=0.2,\n",
    "#     horizontal_flip=True)\n",
    "\n",
    "# this is the augmentation configuration we will use for testing:\n",
    "# only rescaling\n",
    "#test_datagen = ImageDataGenerator(rescale=1. / 255)\n",
    "validate_datagen = ImageDataGenerator()\n",
    "test_datagen = ImageDataGenerator( rotation_range=40,\n",
    "      width_shift_range=0.2,\n",
    "      height_shift_range=0.2,\n",
    "      shear_range=0.2,\n",
    "      zoom_range=0.2,\n",
    "      horizontal_flip=True,\n",
    "      fill_mode='nearest')\n",
    "\n",
    "train_generator = train_datagen.flow_from_directory(\n",
    "    train_data_dir,\n",
    "    target_size=(150, 150),\n",
    "    batch_size=batch_size,\n",
    "    class_mode='categorical')\n",
    "\n",
    "validation_generator = validate_datagen.flow_from_directory(\n",
    "    validation_data_dir,\n",
    "    target_size=(150, 150),\n",
    "    batch_size=batch_size,\n",
    "    class_mode='categorical')\n",
    "\n",
    "test_generator = test_datagen.flow_from_directory(\n",
    "    test_data_dir,\n",
    "    target_size=(150, 150),\n",
    "    batch_size=batch_size,\n",
    "    class_mode='categorical')\n",
    "\n",
    "\n",
    "history = model.fit_generator(\n",
    "    train_generator,\n",
    "    steps_per_epoch=nb_train_samples // batch_size,\n",
    "    epochs=epochs,\n",
    "    validation_data=validation_generator,\n",
    "    validation_steps=nb_validation_samples // batch_size\n",
    "    )\n",
    "\n",
    "model.save('curlyhair_deep.h5')"
   ]
  },
  {
   "cell_type": "code",
   "execution_count": 4,
   "metadata": {
    "ExecuteTime": {
     "end_time": "2019-09-12T18:02:41.157448Z",
     "start_time": "2019-09-12T18:02:40.951886Z"
    }
   },
   "outputs": [
    {
     "data": {
      "text/plain": [
       "<Figure size 640x480 with 1 Axes>"
      ]
     },
     "metadata": {},
     "output_type": "display_data"
    },
    {
     "data": {
      "text/plain": [
       "<Figure size 640x480 with 1 Axes>"
      ]
     },
     "metadata": {},
     "output_type": "display_data"
    }
   ],
   "source": [
    "import matplotlib.pyplot as plt\n",
    "acc = history.history['acc']\n",
    "val_acc = history.history['val_acc']\n",
    "loss = history.history['loss']\n",
    "val_loss = history.history['val_loss']\n",
    "epochs = range(1, len(acc) + 1)\n",
    "plt.plot(epochs, acc, 'bo', label='Training acc')\n",
    "plt.plot(epochs, val_acc, 'b', label='Validation acc')\n",
    "plt.title('Training and validation accuracy')\n",
    "plt.legend()\n",
    "plt.figure()\n",
    "plt.plot(epochs, loss, 'bo', label='Training loss')\n",
    "plt.plot(epochs, val_loss, 'b', label='Validation loss')\n",
    "plt.title('Training and validation loss')\n",
    "plt.legend()\n",
    "plt.show()"
   ]
  },
  {
   "cell_type": "markdown",
   "metadata": {
    "ExecuteTime": {
     "end_time": "2019-09-10T21:52:43.450000Z",
     "start_time": "2019-09-10T21:52:43.445772Z"
    }
   },
   "source": [
    "# Feature extraction: Transfer learning\n"
   ]
  },
  {
   "cell_type": "code",
   "execution_count": 3,
   "metadata": {
    "ExecuteTime": {
     "end_time": "2019-09-17T17:46:05.766322Z",
     "start_time": "2019-09-17T17:46:01.779691Z"
    }
   },
   "outputs": [
    {
     "name": "stdout",
     "output_type": "stream",
     "text": [
      "WARNING:tensorflow:From /anaconda3/envs/metis/lib/python3.7/site-packages/tensorflow/python/framework/op_def_library.py:263: colocate_with (from tensorflow.python.framework.ops) is deprecated and will be removed in a future version.\n",
      "Instructions for updating:\n",
      "Colocations handled automatically by placer.\n"
     ]
    },
    {
     "name": "stderr",
     "output_type": "stream",
     "text": [
      "/anaconda3/envs/metis/lib/python3.7/site-packages/keras_applications/mobilenet.py:207: UserWarning: `input_shape` is undefined or non-square, or `rows` is not in [128, 160, 192, 224]. Weights for input shape (224, 224) will be loaded as the default.\n",
      "  warnings.warn('`input_shape` is undefined or non-square, '\n"
     ]
    }
   ],
   "source": [
    "from keras.applications import imagenet_utils, mobilenet\n",
    "mobilenet_model = mobilenet.MobileNet(weights='imagenet',include_top=False, alpha =1,input_shape=(150, 150, 3), pooling='avg' )\n",
    "for layer in mobilenet_model.layers:\n",
    "    layer.trainable = False   \n",
    "    \n"
   ]
  },
  {
   "cell_type": "code",
   "execution_count": 4,
   "metadata": {
    "ExecuteTime": {
     "end_time": "2019-09-17T17:46:05.772710Z",
     "start_time": "2019-09-17T17:46:05.767936Z"
    },
    "scrolled": false
   },
   "outputs": [],
   "source": [
    "#mobilenet_model.summary()"
   ]
  },
  {
   "cell_type": "code",
   "execution_count": 5,
   "metadata": {
    "ExecuteTime": {
     "end_time": "2019-09-17T17:46:05.778721Z",
     "start_time": "2019-09-17T17:46:05.774580Z"
    }
   },
   "outputs": [],
   "source": [
    "from keras import backend as K\n"
   ]
  },
  {
   "cell_type": "code",
   "execution_count": 14,
   "metadata": {
    "ExecuteTime": {
     "end_time": "2019-09-17T17:46:30.407446Z",
     "start_time": "2019-09-17T17:46:28.458089Z"
    }
   },
   "outputs": [
    {
     "name": "stdout",
     "output_type": "stream",
     "text": [
      "WARNING:tensorflow:From /anaconda3/envs/metis/lib/python3.7/site-packages/keras/backend/tensorflow_backend.py:3445: calling dropout (from tensorflow.python.ops.nn_ops) with keep_prob is deprecated and will be removed in a future version.\n",
      "Instructions for updating:\n",
      "Please use `rate` instead of `keep_prob`. Rate should be set to `rate = 1 - keep_prob`.\n"
     ]
    }
   ],
   "source": [
    "from keras import models\n",
    "from keras import layers\n",
    "from keras.layers import Input, Dense\n",
    "img_width, img_height = 150, 150\n",
    "\n",
    "train_data_dir = '/Users/fatimaloumaini/Documents/PassionProject copy/Train'\n",
    "validation_data_dir = '/Users/fatimaloumaini/Documents/PassionProject copy/Validation'\n",
    "test_data_dir = '/Users/fatimaloumaini/Documents/PassionProject copy/Test'\n",
    "nb_train_samples = 770\n",
    "nb_validation_samples = 90\n",
    "nb_test_samples = 90\n",
    "epochs = 100\n",
    "batch_size = 32\n",
    "\n",
    "if K.image_data_format() == 'channels_first':\n",
    "    input_shape = (3, img_width, img_height)\n",
    "else:\n",
    "    input_shape = (img_width, img_height, 3)\n",
    "    \n",
    "cnn = models.Sequential()\n",
    "cnn.add(mobilenet_model)\n",
    "# model.add(layers.Flatten())\n",
    "cnn.add(keras.layers.BatchNormalization())\n",
    "cnn.add(Dropout(0.5))\n",
    "# For classification\n",
    "cnn.add(layers.Dense(1, activation='linear'))\n",
    "\n",
    "cnn.add(keras.layers.Lambda(lambda x: K.sigmoid(x)*8 ))\n",
    "\n",
    "\n",
    "\n",
    "# x = mobilenet_model.output\n",
    "# x = Flatten()(x) # flatten from convolution tensor output \n",
    "# x= Dropout(0.1) (x)\n",
    "# classification_output = Dense(10, activation='softmax')(x) # should match # of classes predicted\n",
    "# transfer= model(inputs=mobilenet_model.input, outputs=classification_output)\n",
    "# regression_output = Dense(1, activation='linear')(classification_output) \n",
    "\n",
    "# # this is the model we will train\n",
    "# transfer= model(inputs=mobilenet_model.input, outputs=[classification_output,regression_output])\n"
   ]
  },
  {
   "cell_type": "code",
   "execution_count": 15,
   "metadata": {
    "ExecuteTime": {
     "end_time": "2019-09-17T17:46:32.757439Z",
     "start_time": "2019-09-17T17:46:32.754032Z"
    }
   },
   "outputs": [],
   "source": [
    "# from keras import models\n",
    "# from keras import layers\n",
    "# from keras.layers import Input, Dense\n",
    "# img_width, img_height = 150, 150\n",
    "\n",
    "# train_data_dir = '/Users/fatimaloumaini/Documents/PassionProject/Train'\n",
    "# validation_data_dir = '/Users/fatimaloumaini/Documents/PassionProject/Validation'\n",
    "# test_data_dir = '/Users/fatimaloumaini/Documents/PassionProject/Test'\n",
    "# nb_train_samples = 822\n",
    "# nb_validation_samples = 101\n",
    "# nb_test_samples = 103\n",
    "# epochs = 100\n",
    "# batch_size = 32\n",
    "\n",
    "# if K.image_data_format() == 'channels_first':\n",
    "#     input_shape = (3, img_width, img_height)\n",
    "# else:\n",
    "#     input_shape = (img_width, img_height, 3)\n",
    "    \n",
    "# cnn = models.Sequential()\n",
    "# cnn.add(mobilenet_model)\n",
    "# # model.add(layers.Flatten())\n",
    "# cnn.add(keras.layers.BatchNormalization())\n",
    "# cnn.add(Dropout(0.5))\n",
    "# # For classification\n",
    "# cnn.add(layers.Dense(9, activation='softmax'))\n",
    "\n"
   ]
  },
  {
   "cell_type": "code",
   "execution_count": 16,
   "metadata": {
    "ExecuteTime": {
     "end_time": "2019-09-17T17:46:33.414057Z",
     "start_time": "2019-09-17T17:46:33.409576Z"
    }
   },
   "outputs": [],
   "source": [
    "\n",
    "mobilenet_model.trainable = False\n",
    "\n"
   ]
  },
  {
   "cell_type": "code",
   "execution_count": 17,
   "metadata": {
    "ExecuteTime": {
     "end_time": "2019-09-17T17:46:34.351886Z",
     "start_time": "2019-09-17T17:46:34.340695Z"
    }
   },
   "outputs": [
    {
     "name": "stdout",
     "output_type": "stream",
     "text": [
      "_________________________________________________________________\n",
      "Layer (type)                 Output Shape              Param #   \n",
      "=================================================================\n",
      "mobilenet_1.00_224 (Model)   (None, 1024)              3228864   \n",
      "_________________________________________________________________\n",
      "batch_normalization_1 (Batch (None, 1024)              4096      \n",
      "_________________________________________________________________\n",
      "dropout_1 (Dropout)          (None, 1024)              0         \n",
      "_________________________________________________________________\n",
      "dense_1 (Dense)              (None, 1)                 1025      \n",
      "_________________________________________________________________\n",
      "lambda_1 (Lambda)            (None, 1)                 0         \n",
      "=================================================================\n",
      "Total params: 3,233,985\n",
      "Trainable params: 3,073\n",
      "Non-trainable params: 3,230,912\n",
      "_________________________________________________________________\n"
     ]
    }
   ],
   "source": [
    "cnn.summary()"
   ]
  },
  {
   "cell_type": "code",
   "execution_count": null,
   "metadata": {
    "ExecuteTime": {
     "end_time": "2019-09-17T18:33:59.165348Z",
     "start_time": "2019-09-17T18:33:24.065Z"
    }
   },
   "outputs": [],
   "source": [
    "import keras"
   ]
  },
  {
   "cell_type": "code",
   "execution_count": 103,
   "metadata": {
    "ExecuteTime": {
     "end_time": "2019-09-17T18:38:18.313005Z",
     "start_time": "2019-09-17T18:34:01.342108Z"
    }
   },
   "outputs": [
    {
     "name": "stdout",
     "output_type": "stream",
     "text": [
      "Found 768 images belonging to 9 classes.\n",
      "Found 90 images belonging to 9 classes.\n",
      "Epoch 1/100\n",
      "24/24 [==============================] - 21s 865ms/step - loss: 3.3754 - acc: 0.2669 - mean_absolute_error: 1.4036 - val_loss: 3.6490 - val_acc: 0.2188 - val_mean_absolute_error: 1.4197\n",
      "\n",
      "Epoch 00001: val_mean_absolute_error improved from inf to 1.41968, saving model to weights.01-3.65.hdf5\n",
      "Epoch 2/100\n",
      "24/24 [==============================] - 25s 1s/step - loss: 3.3491 - acc: 0.2409 - mean_absolute_error: 1.4156 - val_loss: 4.3591 - val_acc: 0.1724 - val_mean_absolute_error: 1.6322\n",
      "\n",
      "Epoch 00002: val_mean_absolute_error did not improve from 1.41968\n",
      "Epoch 3/100\n",
      "24/24 [==============================] - 20s 819ms/step - loss: 3.4844 - acc: 0.2370 - mean_absolute_error: 1.4449 - val_loss: 3.4096 - val_acc: 0.2759 - val_mean_absolute_error: 1.4981\n",
      "\n",
      "Epoch 00003: val_mean_absolute_error did not improve from 1.41968\n",
      "Epoch 4/100\n",
      "24/24 [==============================] - 19s 784ms/step - loss: 3.0052 - acc: 0.2461 - mean_absolute_error: 1.3549 - val_loss: 3.3424 - val_acc: 0.2656 - val_mean_absolute_error: 1.3924\n",
      "\n",
      "Epoch 00004: val_mean_absolute_error improved from 1.41968 to 1.39241, saving model to weights.04-3.34.hdf5\n",
      "Epoch 5/100\n",
      "24/24 [==============================] - 18s 767ms/step - loss: 2.9724 - acc: 0.2578 - mean_absolute_error: 1.3318 - val_loss: 3.1650 - val_acc: 0.3103 - val_mean_absolute_error: 1.3561\n",
      "\n",
      "Epoch 00005: val_mean_absolute_error improved from 1.39241 to 1.35613, saving model to weights.05-3.16.hdf5\n",
      "Epoch 6/100\n",
      "24/24 [==============================] - 20s 833ms/step - loss: 2.8287 - acc: 0.2812 - mean_absolute_error: 1.2915 - val_loss: 3.0361 - val_acc: 0.3448 - val_mean_absolute_error: 1.2980\n",
      "\n",
      "Epoch 00006: val_mean_absolute_error improved from 1.35613 to 1.29802, saving model to weights.06-3.04.hdf5\n",
      "Epoch 7/100\n",
      "24/24 [==============================] - 20s 815ms/step - loss: 2.8771 - acc: 0.2708 - mean_absolute_error: 1.3148 - val_loss: 2.4688 - val_acc: 0.2500 - val_mean_absolute_error: 1.2225\n",
      "\n",
      "Epoch 00007: val_mean_absolute_error improved from 1.29802 to 1.22246, saving model to weights.07-2.47.hdf5\n",
      "Epoch 8/100\n",
      "24/24 [==============================] - 19s 812ms/step - loss: 2.9280 - acc: 0.2513 - mean_absolute_error: 1.3265 - val_loss: 1.9676 - val_acc: 0.3276 - val_mean_absolute_error: 1.0989\n",
      "\n",
      "Epoch 00008: val_mean_absolute_error improved from 1.22246 to 1.09890, saving model to weights.08-1.97.hdf5\n",
      "Epoch 9/100\n",
      "24/24 [==============================] - 19s 803ms/step - loss: 2.7297 - acc: 0.2500 - mean_absolute_error: 1.2853 - val_loss: 2.4907 - val_acc: 0.3103 - val_mean_absolute_error: 1.2211\n",
      "\n",
      "Epoch 00009: val_mean_absolute_error did not improve from 1.09890\n",
      "Epoch 10/100\n",
      "24/24 [==============================] - 19s 780ms/step - loss: 2.8175 - acc: 0.2760 - mean_absolute_error: 1.2942 - val_loss: 3.0573 - val_acc: 0.2344 - val_mean_absolute_error: 1.3502\n",
      "\n",
      "Epoch 00010: ReduceLROnPlateau reducing learning rate to 0.00020000000949949026.\n",
      "\n",
      "Epoch 00010: val_mean_absolute_error did not improve from 1.09890\n",
      "Epoch 11/100\n",
      "24/24 [==============================] - 18s 761ms/step - loss: 2.8824 - acc: 0.2917 - mean_absolute_error: 1.2894 - val_loss: 2.6971 - val_acc: 0.2414 - val_mean_absolute_error: 1.2636\n",
      "\n",
      "Epoch 00011: val_mean_absolute_error did not improve from 1.09890\n",
      "Epoch 12/100\n",
      "24/24 [==============================] - 18s 739ms/step - loss: 2.5023 - acc: 0.2539 - mean_absolute_error: 1.2510 - val_loss: 2.2587 - val_acc: 0.3276 - val_mean_absolute_error: 1.1829\n",
      "\n",
      "Epoch 00012: ReduceLROnPlateau reducing learning rate to 2.0000000949949027e-05.\n",
      "\n",
      "Epoch 00012: val_mean_absolute_error did not improve from 1.09890\n",
      "Epoch 13/100\n",
      "24/24 [==============================] - 19s 780ms/step - loss: 2.9549 - acc: 0.2526 - mean_absolute_error: 1.3483 - val_loss: 2.8565 - val_acc: 0.2500 - val_mean_absolute_error: 1.3070\n",
      "Restoring model weights from the end of the best epoch\n",
      "\n",
      "Epoch 00013: val_mean_absolute_error did not improve from 1.09890\n",
      "Epoch 00013: early stopping\n"
     ]
    }
   ],
   "source": [
    "cnn.compile(optimizer=keras.optimizers.nadam(lr=0.002),\n",
    "                  loss=['mse'],\n",
    "                  metrics=['accuracy','mae'])\n",
    "\n",
    "# def top_3_acc(y_true, y_pred):\n",
    "#     return keras.metrics.top_k_categorical_accuracy(y_true, y_pred, k=3)\n",
    "\n",
    "# cnn.compile(optimizer=keras.optimizers.nadam(lr=0.002),\n",
    "#                   loss='mse',\n",
    "#                   metrics=['accuracy','mae'])\n",
    "\n",
    "\n",
    "\n",
    "# this is the augmentation configuration we will use for training\n",
    "train_datagen_ = ImageDataGenerator( \n",
    "    rotation_range=40,\n",
    "      width_shift_range=0.2,\n",
    "      height_shift_range=0.2,\n",
    "     shear_range=0.2,\n",
    "      zoom_range=0.3,\n",
    "      rescale=1./255,\n",
    "      horizontal_flip=True\n",
    "    #fill_mode='nearest'\n",
    "      )\n",
    "      \n",
    "\n",
    "test_datagen_= ImageDataGenerator(rescale=1./255)\n",
    "real_classes = ['2a', '2b', '2c', '3a', '3b', '3c', '4a', '4b', '4c']\n",
    "    \n",
    "train_generator_ = train_datagen_.flow_from_directory(\n",
    "    train_data_dir,\n",
    "    classes=real_classes,\n",
    "    target_size=(150, 150),\n",
    "    batch_size=batch_size,\n",
    "    class_mode='sparse')\n",
    "\n",
    "validation_generator_ = test_datagen_.flow_from_directory(\n",
    "    validation_data_dir,\n",
    "    classes=real_classes,\n",
    "    target_size=(150, 150),\n",
    "    batch_size=batch_size,\n",
    "    class_mode='sparse')\n",
    "\n",
    "\n",
    "filepath = 'weights.{epoch:02d}-{val_loss:.2f}.hdf5'\n",
    "transfer_learning = cnn.fit_generator(\n",
    "    train_generator_,\n",
    "    steps_per_epoch=nb_train_samples // batch_size,\n",
    "    epochs=epochs,\n",
    "    validation_data=validation_generator_,\n",
    "    validation_steps=nb_validation_samples // batch_size,\n",
    "    verbose = 1,\n",
    "    callbacks=[\n",
    "        keras.callbacks.ReduceLROnPlateau(patience=2, verbose=1),\n",
    "        keras.callbacks.EarlyStopping(patience=5, restore_best_weights=True, verbose=1),\n",
    "        keras.callbacks.ModelCheckpoint(filepath, monitor='val_mean_absolute_error', verbose=1, save_best_only=True, mode='min')])\n",
    "\n",
    "    # ReduceLROnPlateau, EarlyStopping, ModelCheckpoint\n",
    "    \n",
    "\n",
    "cnn.save('transfer_learning_regression.h5')"
   ]
  },
  {
   "cell_type": "code",
   "execution_count": 104,
   "metadata": {
    "ExecuteTime": {
     "end_time": "2019-09-17T18:39:54.315106Z",
     "start_time": "2019-09-17T18:39:54.307057Z"
    }
   },
   "outputs": [],
   "source": [
    "# # cnn.compile(optimizer=keras.optimizers.nadam(lr=0.002),\n",
    "# #                   loss=['mse'],\n",
    "# #                   metrics=['accuracy','mae'])\n",
    "\n",
    "# import keras.backend as K\n",
    "\n",
    "# def mean_pred(y_true, y_pred):\n",
    "#     return K.mean(y_pred)\n",
    "\n",
    "\n",
    "# cnn.compile(optimizer=keras.optimizers.nadam(lr=0.002),\n",
    "#                   loss='mse',\n",
    "#                   metrics=['accuracy',mean_pred])\n",
    "\n",
    "\n",
    "\n",
    "# # this is the augmentation configuration we will use for training\n",
    "# train_datagen_ = ImageDataGenerator( \n",
    "#     rotation_range=40,\n",
    "#       width_shift_range=0.2,\n",
    "#       height_shift_range=0.2,\n",
    "#      shear_range=0.2,\n",
    "#       zoom_range=0.3,\n",
    "#       rescale=1./255,\n",
    "#       horizontal_flip=True\n",
    "#     #fill_mode='nearest'\n",
    "#       )\n",
    "      \n",
    "\n",
    "# test_datagen_= ImageDataGenerator(rescale=1./255)\n",
    "# real_classes = ['2a', '2b', '2c', '3a', '3b', '3c', '4a', '4b', '4c']\n",
    "    \n",
    "# train_generator_ = train_datagen_.flow_from_directory(\n",
    "#     train_data_dir,\n",
    "#     classes=real_classes,\n",
    "#     target_size=(150, 150),\n",
    "#     batch_size=batch_size,\n",
    "#     class_mode='sparse')\n",
    "\n",
    "# validation_generator_ = test_datagen_.flow_from_directory(\n",
    "#     validation_data_dir,\n",
    "#     classes=real_classes,\n",
    "#     target_size=(150, 150),\n",
    "#     batch_size=batch_size,\n",
    "#     class_mode='sparse')\n",
    "\n",
    "\n",
    "# filepath = 'weights.{epoch:02d}-{val_loss:.2f}.hdf5'\n",
    "# transfer_learning = cnn.fit_generator(\n",
    "#     train_generator_,\n",
    "#     steps_per_epoch=nb_train_samples // batch_size,\n",
    "#     epochs=epochs,\n",
    "#     validation_data=validation_generator_,\n",
    "#     validation_steps=nb_validation_samples // batch_size,\n",
    "#     verbose = 1,\n",
    "#     callbacks=[\n",
    "#         keras.callbacks.ReduceLROnPlateau(patience=2, verbose=1),\n",
    "#         keras.callbacks.EarlyStopping(patience=5, restore_best_weights=True, verbose=1),\n",
    "#         keras.callbacks.ModelCheckpoint(filepath, monitor='val_mean_pred', verbose=1, save_best_only=True, mode='min')])\n",
    "\n",
    "#     # ReduceLROnPlateau, EarlyStopping, ModelCheckpoint\n",
    "    \n",
    "\n",
    "# cnn.save('transfer_learning.h5')"
   ]
  },
  {
   "cell_type": "code",
   "execution_count": 105,
   "metadata": {
    "ExecuteTime": {
     "end_time": "2019-09-17T18:39:54.767372Z",
     "start_time": "2019-09-17T18:39:54.656369Z"
    }
   },
   "outputs": [
    {
     "name": "stdout",
     "output_type": "stream",
     "text": [
      "Found 768 images belonging to 9 classes.\n"
     ]
    }
   ],
   "source": [
    "train_generator_ = train_datagen_.flow_from_directory(\n",
    "    train_data_dir,\n",
    "    target_size=(150, 150),\n",
    "    batch_size=batch_size,\n",
    "    class_mode='sparse')"
   ]
  },
  {
   "cell_type": "code",
   "execution_count": 106,
   "metadata": {
    "ExecuteTime": {
     "end_time": "2019-09-17T18:39:55.172469Z",
     "start_time": "2019-09-17T18:39:54.938728Z"
    }
   },
   "outputs": [
    {
     "data": {
      "text/plain": [
       "array([8., 5., 7., 7., 7., 1., 4., 7., 3., 4., 5., 6., 3., 4., 6., 3., 5.,\n",
       "       4., 2., 7., 5., 5., 3., 4., 8., 2., 6., 6., 2., 2., 3., 6.],\n",
       "      dtype=float32)"
      ]
     },
     "execution_count": 106,
     "metadata": {},
     "output_type": "execute_result"
    }
   ],
   "source": [
    "train_generator_.__next__()[1]"
   ]
  },
  {
   "cell_type": "code",
   "execution_count": 107,
   "metadata": {
    "ExecuteTime": {
     "end_time": "2019-09-17T18:39:55.179296Z",
     "start_time": "2019-09-17T18:39:55.174134Z"
    }
   },
   "outputs": [],
   "source": [
    "real_classes = ['2a', '2b', '2c', '3a', '3b', '3c', '4a', '4b', '4c']"
   ]
  },
  {
   "cell_type": "code",
   "execution_count": 108,
   "metadata": {
    "ExecuteTime": {
     "end_time": "2019-09-17T18:39:55.430667Z",
     "start_time": "2019-09-17T18:39:55.422817Z"
    }
   },
   "outputs": [
    {
     "data": {
      "text/plain": [
       "['2a', '2b', '2c', '3a', '3b', '3c', '4a', '4b', '4c']"
      ]
     },
     "execution_count": 108,
     "metadata": {},
     "output_type": "execute_result"
    }
   ],
   "source": [
    "list(train_generator_.class_indices.keys())"
   ]
  },
  {
   "cell_type": "code",
   "execution_count": 109,
   "metadata": {
    "ExecuteTime": {
     "end_time": "2019-09-17T18:39:55.760063Z",
     "start_time": "2019-09-17T18:39:55.755425Z"
    }
   },
   "outputs": [
    {
     "data": {
      "text/plain": [
       "'/Users/fatimaloumaini/Documents/PassionProject copy/Test'"
      ]
     },
     "execution_count": 109,
     "metadata": {},
     "output_type": "execute_result"
    }
   ],
   "source": [
    "test_data_dir"
   ]
  },
  {
   "cell_type": "code",
   "execution_count": 110,
   "metadata": {
    "ExecuteTime": {
     "end_time": "2019-09-17T18:39:56.127158Z",
     "start_time": "2019-09-17T18:39:56.014173Z"
    }
   },
   "outputs": [
    {
     "name": "stdout",
     "output_type": "stream",
     "text": [
      "Found 90 images belonging to 9 classes.\n"
     ]
    }
   ],
   "source": [
    "# Predict on test dataset\n",
    "test_generator_ = test_datagen_.flow_from_directory(\n",
    "    test_data_dir,\n",
    "    classes=real_classes,\n",
    "    target_size=(150, 150),\n",
    "    batch_size=32)\n",
    "    #class_mode='sparse')\n"
   ]
  },
  {
   "cell_type": "code",
   "execution_count": null,
   "metadata": {},
   "outputs": [],
   "source": []
  },
  {
   "cell_type": "code",
   "execution_count": 111,
   "metadata": {
    "ExecuteTime": {
     "end_time": "2019-09-17T18:39:56.567919Z",
     "start_time": "2019-09-17T18:39:56.564457Z"
    }
   },
   "outputs": [],
   "source": [
    "test_generator_.reset()\n",
    "\n"
   ]
  },
  {
   "cell_type": "code",
   "execution_count": 112,
   "metadata": {
    "ExecuteTime": {
     "end_time": "2019-09-17T18:39:57.105226Z",
     "start_time": "2019-09-17T18:39:56.993205Z"
    }
   },
   "outputs": [
    {
     "name": "stdout",
     "output_type": "stream",
     "text": [
      "(32, 150, 150, 3)\n"
     ]
    }
   ],
   "source": [
    "x,y = test_generator_.__next__()\n",
    "\n",
    "print(x.shape)\n"
   ]
  },
  {
   "cell_type": "code",
   "execution_count": 113,
   "metadata": {
    "ExecuteTime": {
     "end_time": "2019-09-17T18:39:57.457244Z",
     "start_time": "2019-09-17T18:39:57.449979Z"
    }
   },
   "outputs": [],
   "source": [
    "import numpy as np"
   ]
  },
  {
   "cell_type": "code",
   "execution_count": 114,
   "metadata": {
    "ExecuteTime": {
     "end_time": "2019-09-17T18:39:57.892835Z",
     "start_time": "2019-09-17T18:39:57.884784Z"
    }
   },
   "outputs": [
    {
     "data": {
      "text/plain": [
       "3.0"
      ]
     },
     "execution_count": 114,
     "metadata": {},
     "output_type": "execute_result"
    }
   ],
   "source": [
    "np.ceil(test_generator_.n / test_generator_.batch_size)"
   ]
  },
  {
   "cell_type": "code",
   "execution_count": 115,
   "metadata": {
    "ExecuteTime": {
     "end_time": "2019-09-17T18:39:58.385602Z",
     "start_time": "2019-09-17T18:39:58.376378Z"
    }
   },
   "outputs": [
    {
     "data": {
      "text/plain": [
       "3.0"
      ]
     },
     "execution_count": 115,
     "metadata": {},
     "output_type": "execute_result"
    }
   ],
   "source": [
    "steps = np.ceil(test_generator_.n / test_generator_.batch_size)\n",
    "steps"
   ]
  },
  {
   "cell_type": "code",
   "execution_count": 116,
   "metadata": {
    "ExecuteTime": {
     "end_time": "2019-09-17T18:40:02.571776Z",
     "start_time": "2019-09-17T18:39:59.545257Z"
    }
   },
   "outputs": [],
   "source": [
    "pred=cnn.predict_generator(test_generator_,verbose=2, steps=3)\n",
    "\n"
   ]
  },
  {
   "cell_type": "code",
   "execution_count": 117,
   "metadata": {
    "ExecuteTime": {
     "end_time": "2019-09-17T18:40:02.581320Z",
     "start_time": "2019-09-17T18:40:02.573718Z"
    },
    "scrolled": true
   },
   "outputs": [
    {
     "data": {
      "text/plain": [
       "array([[7.2422786 ],\n",
       "       [7.796323  ],\n",
       "       [7.1407347 ],\n",
       "       [7.146268  ],\n",
       "       [3.986197  ],\n",
       "       [2.4277735 ],\n",
       "       [6.2397127 ],\n",
       "       [4.637605  ],\n",
       "       [7.604001  ],\n",
       "       [0.83598614],\n",
       "       [4.862296  ],\n",
       "       [0.74763036],\n",
       "       [1.7022412 ],\n",
       "       [5.5861444 ],\n",
       "       [5.3774233 ],\n",
       "       [3.2180204 ],\n",
       "       [3.1619952 ],\n",
       "       [0.30395293],\n",
       "       [7.7914867 ],\n",
       "       [4.3875446 ],\n",
       "       [4.431928  ],\n",
       "       [2.9289355 ],\n",
       "       [2.3684168 ],\n",
       "       [0.25957727],\n",
       "       [1.1269181 ],\n",
       "       [4.309211  ],\n",
       "       [5.4190283 ],\n",
       "       [0.3043306 ],\n",
       "       [0.38528228],\n",
       "       [1.8141649 ],\n",
       "       [2.2722278 ],\n",
       "       [1.4797022 ],\n",
       "       [0.7371769 ],\n",
       "       [0.7595506 ],\n",
       "       [4.437942  ],\n",
       "       [6.199211  ],\n",
       "       [2.9435139 ],\n",
       "       [3.0299025 ],\n",
       "       [5.138427  ],\n",
       "       [4.6107025 ],\n",
       "       [6.2692575 ],\n",
       "       [3.9600425 ],\n",
       "       [1.5933256 ],\n",
       "       [2.6976194 ],\n",
       "       [5.370982  ],\n",
       "       [4.867452  ],\n",
       "       [6.9745646 ],\n",
       "       [0.45484424],\n",
       "       [5.7208147 ],\n",
       "       [1.9447513 ],\n",
       "       [6.3055816 ],\n",
       "       [4.162413  ],\n",
       "       [7.4606104 ],\n",
       "       [6.4531994 ],\n",
       "       [3.1117606 ],\n",
       "       [7.0187836 ],\n",
       "       [3.7778895 ],\n",
       "       [1.8590677 ],\n",
       "       [1.1165328 ],\n",
       "       [6.279236  ],\n",
       "       [5.3774233 ],\n",
       "       [4.862296  ],\n",
       "       [3.7778895 ],\n",
       "       [1.5950131 ],\n",
       "       [5.370982  ],\n",
       "       [2.9289355 ],\n",
       "       [2.3684168 ],\n",
       "       [5.6159477 ],\n",
       "       [4.637605  ],\n",
       "       [0.7595506 ],\n",
       "       [7.5260496 ],\n",
       "       [0.83598614],\n",
       "       [1.0458214 ],\n",
       "       [7.146268  ],\n",
       "       [0.25957727],\n",
       "       [2.9138622 ],\n",
       "       [0.38528228],\n",
       "       [1.1269181 ],\n",
       "       [0.7371769 ],\n",
       "       [0.99411535],\n",
       "       [0.30395293],\n",
       "       [4.3875446 ],\n",
       "       [3.963888  ],\n",
       "       [3.2180204 ],\n",
       "       [7.1407347 ],\n",
       "       [3.0299025 ],\n",
       "       [7.1680584 ],\n",
       "       [6.4531994 ],\n",
       "       [1.8141649 ],\n",
       "       [1.8590677 ]], dtype=float32)"
      ]
     },
     "execution_count": 117,
     "metadata": {},
     "output_type": "execute_result"
    }
   ],
   "source": [
    "pred"
   ]
  },
  {
   "cell_type": "code",
   "execution_count": 118,
   "metadata": {
    "ExecuteTime": {
     "end_time": "2019-09-17T18:40:03.130274Z",
     "start_time": "2019-09-17T18:40:03.124630Z"
    }
   },
   "outputs": [],
   "source": [
    "predicted_class_indices=np.round(pred)"
   ]
  },
  {
   "cell_type": "code",
   "execution_count": 120,
   "metadata": {
    "ExecuteTime": {
     "end_time": "2019-09-17T19:15:19.038042Z",
     "start_time": "2019-09-17T19:15:19.012793Z"
    }
   },
   "outputs": [
    {
     "name": "stdout",
     "output_type": "stream",
     "text": [
      "0 7.2422786\n",
      "1 7.796323\n",
      "2 7.1407347\n",
      "3 7.146268\n",
      "4 3.986197\n",
      "5 2.4277735\n",
      "6 6.2397127\n",
      "7 4.637605\n",
      "8 7.604001\n",
      "9 0.83598614\n",
      "10 4.862296\n",
      "11 0.74763036\n",
      "12 1.7022412\n",
      "13 5.5861444\n",
      "14 5.3774233\n",
      "15 3.2180204\n",
      "16 3.1619952\n",
      "17 0.30395293\n",
      "18 7.7914867\n",
      "19 4.3875446\n",
      "20 4.431928\n",
      "21 2.9289355\n",
      "22 2.3684168\n",
      "23 0.25957727\n",
      "24 1.1269181\n",
      "25 4.309211\n",
      "26 5.4190283\n",
      "27 0.3043306\n",
      "28 0.38528228\n",
      "29 1.8141649\n",
      "30 2.2722278\n",
      "31 1.4797022\n",
      "32 0.7371769\n",
      "33 0.7595506\n",
      "34 4.437942\n",
      "35 6.199211\n",
      "36 2.9435139\n",
      "37 3.0299025\n",
      "38 5.138427\n",
      "39 4.6107025\n",
      "40 6.2692575\n",
      "41 3.9600425\n",
      "42 1.5933256\n",
      "43 2.6976194\n",
      "44 5.370982\n",
      "45 4.867452\n",
      "46 6.9745646\n",
      "47 0.45484424\n",
      "48 5.7208147\n",
      "49 1.9447513\n",
      "50 6.3055816\n",
      "51 4.162413\n",
      "52 7.4606104\n",
      "53 6.4531994\n",
      "54 3.1117606\n",
      "55 7.0187836\n",
      "56 3.7778895\n",
      "57 1.8590677\n",
      "58 1.1165328\n",
      "59 6.279236\n",
      "60 5.3774233\n",
      "61 4.862296\n",
      "62 3.7778895\n",
      "63 1.5950131\n",
      "64 5.370982\n",
      "65 2.9289355\n",
      "66 2.3684168\n",
      "67 5.6159477\n",
      "68 4.637605\n",
      "69 0.7595506\n",
      "70 7.5260496\n",
      "71 0.83598614\n",
      "72 1.0458214\n",
      "73 7.146268\n",
      "74 0.25957727\n",
      "75 2.9138622\n",
      "76 0.38528228\n",
      "77 1.1269181\n",
      "78 0.7371769\n",
      "79 0.99411535\n",
      "80 0.30395293\n",
      "81 4.3875446\n",
      "82 3.963888\n",
      "83 3.2180204\n",
      "84 7.1407347\n",
      "85 3.0299025\n",
      "86 7.1680584\n",
      "87 6.4531994\n",
      "88 1.8141649\n",
      "89 1.8590677\n"
     ]
    }
   ],
   "source": [
    "for index1 in range(len(pred)):\n",
    "    for index2 in range(len(pred[index1])):\n",
    "        print(index1, pred[index1][index2])"
   ]
  },
  {
   "cell_type": "code",
   "execution_count": 119,
   "metadata": {
    "ExecuteTime": {
     "end_time": "2019-09-17T18:40:03.782120Z",
     "start_time": "2019-09-17T18:40:03.765357Z"
    },
    "scrolled": true
   },
   "outputs": [
    {
     "name": "stdout",
     "output_type": "stream",
     "text": [
      "0 7.0\n",
      "1 8.0\n",
      "2 7.0\n",
      "3 7.0\n",
      "4 4.0\n",
      "5 2.0\n",
      "6 6.0\n",
      "7 5.0\n",
      "8 8.0\n",
      "9 1.0\n",
      "10 5.0\n",
      "11 1.0\n",
      "12 2.0\n",
      "13 6.0\n",
      "14 5.0\n",
      "15 3.0\n",
      "16 3.0\n",
      "17 0.0\n",
      "18 8.0\n",
      "19 4.0\n",
      "20 4.0\n",
      "21 3.0\n",
      "22 2.0\n",
      "23 0.0\n",
      "24 1.0\n",
      "25 4.0\n",
      "26 5.0\n",
      "27 0.0\n",
      "28 0.0\n",
      "29 2.0\n",
      "30 2.0\n",
      "31 1.0\n",
      "32 1.0\n",
      "33 1.0\n",
      "34 4.0\n",
      "35 6.0\n",
      "36 3.0\n",
      "37 3.0\n",
      "38 5.0\n",
      "39 5.0\n",
      "40 6.0\n",
      "41 4.0\n",
      "42 2.0\n",
      "43 3.0\n",
      "44 5.0\n",
      "45 5.0\n",
      "46 7.0\n",
      "47 0.0\n",
      "48 6.0\n",
      "49 2.0\n",
      "50 6.0\n",
      "51 4.0\n",
      "52 7.0\n",
      "53 6.0\n",
      "54 3.0\n",
      "55 7.0\n",
      "56 4.0\n",
      "57 2.0\n",
      "58 1.0\n",
      "59 6.0\n",
      "60 5.0\n",
      "61 5.0\n",
      "62 4.0\n",
      "63 2.0\n",
      "64 5.0\n",
      "65 3.0\n",
      "66 2.0\n",
      "67 6.0\n",
      "68 5.0\n",
      "69 1.0\n",
      "70 8.0\n",
      "71 1.0\n",
      "72 1.0\n",
      "73 7.0\n",
      "74 0.0\n",
      "75 3.0\n",
      "76 0.0\n",
      "77 1.0\n",
      "78 1.0\n",
      "79 1.0\n",
      "80 0.0\n",
      "81 4.0\n",
      "82 4.0\n",
      "83 3.0\n",
      "84 7.0\n",
      "85 3.0\n",
      "86 7.0\n",
      "87 6.0\n",
      "88 2.0\n",
      "89 2.0\n"
     ]
    }
   ],
   "source": [
    "for index1 in range(len(predicted_class_indices)):\n",
    "    for index2 in range(len(predicted_class_indices[index1])):\n",
    "        print(index1, predicted_class_indices[index1][index2])\n",
    "   "
   ]
  },
  {
   "cell_type": "code",
   "execution_count": 101,
   "metadata": {
    "ExecuteTime": {
     "end_time": "2019-09-17T18:33:10.013134Z",
     "start_time": "2019-09-17T18:33:10.005585Z"
    }
   },
   "outputs": [
    {
     "data": {
      "text/plain": [
       "(90, 1)"
      ]
     },
     "execution_count": 101,
     "metadata": {},
     "output_type": "execute_result"
    }
   ],
   "source": [
    "pred.shape"
   ]
  },
  {
   "cell_type": "code",
   "execution_count": 71,
   "metadata": {
    "ExecuteTime": {
     "end_time": "2019-09-17T18:08:34.584226Z",
     "start_time": "2019-09-17T18:08:34.381996Z"
    }
   },
   "outputs": [],
   "source": [
    "test_images,test_labels = next(test_generator_)\n"
   ]
  },
  {
   "cell_type": "code",
   "execution_count": 72,
   "metadata": {
    "ExecuteTime": {
     "end_time": "2019-09-17T18:08:34.593007Z",
     "start_time": "2019-09-17T18:08:34.586071Z"
    }
   },
   "outputs": [
    {
     "data": {
      "text/plain": [
       "{'2a': 0,\n",
       " '2b': 1,\n",
       " '2c': 2,\n",
       " '3a': 3,\n",
       " '3b': 4,\n",
       " '3c': 5,\n",
       " '4a': 6,\n",
       " '4b': 7,\n",
       " '4c': 8}"
      ]
     },
     "execution_count": 72,
     "metadata": {},
     "output_type": "execute_result"
    }
   ],
   "source": [
    "test_batches = test_generator_.class_indices\n",
    "test_batches"
   ]
  },
  {
   "cell_type": "code",
   "execution_count": 73,
   "metadata": {
    "ExecuteTime": {
     "end_time": "2019-09-17T18:08:34.607184Z",
     "start_time": "2019-09-17T18:08:34.603172Z"
    }
   },
   "outputs": [],
   "source": [
    "#pred\n"
   ]
  },
  {
   "cell_type": "code",
   "execution_count": 74,
   "metadata": {
    "ExecuteTime": {
     "end_time": "2019-09-17T18:08:34.613538Z",
     "start_time": "2019-09-17T18:08:34.609281Z"
    }
   },
   "outputs": [],
   "source": [
    "import numpy as np\n"
   ]
  },
  {
   "cell_type": "code",
   "execution_count": 75,
   "metadata": {
    "ExecuteTime": {
     "end_time": "2019-09-17T18:08:34.620237Z",
     "start_time": "2019-09-17T18:08:34.615394Z"
    }
   },
   "outputs": [],
   "source": [
    "predicted_class_indices=np.round(pred)\n",
    "\n"
   ]
  },
  {
   "cell_type": "code",
   "execution_count": 76,
   "metadata": {
    "ExecuteTime": {
     "end_time": "2019-09-17T18:08:34.814704Z",
     "start_time": "2019-09-17T18:08:34.623016Z"
    },
    "scrolled": true
   },
   "outputs": [
    {
     "data": {
      "text/plain": [
       "(array([12.,  4., 15.,  6.,  7.,  9., 14., 23.]),\n",
       " array([0., 1., 2., 3., 4., 5., 6., 7., 8.], dtype=float32),\n",
       " <a list of 8 Patch objects>)"
      ]
     },
     "execution_count": 76,
     "metadata": {},
     "output_type": "execute_result"
    },
    {
     "data": {
      "image/png": "[encoded data removed]",
      "text/plain": [
       "<Figure size 432x288 with 1 Axes>"
      ]
     },
     "metadata": {
      "needs_background": "light"
     },
     "output_type": "display_data"
    }
   ],
   "source": [
    "import matplotlib.pyplot as plt\n",
    "plt.hist(predicted_class_indices, bins=8)\n",
    "\n"
   ]
  },
  {
   "cell_type": "code",
   "execution_count": 77,
   "metadata": {
    "ExecuteTime": {
     "end_time": "2019-09-17T18:08:34.826046Z",
     "start_time": "2019-09-17T18:08:34.816887Z"
    }
   },
   "outputs": [],
   "source": [
    "import numpy as np\n",
    "y_pred = np.rint(pred)\n"
   ]
  },
  {
   "cell_type": "code",
   "execution_count": 78,
   "metadata": {
    "ExecuteTime": {
     "end_time": "2019-09-17T18:08:34.836249Z",
     "start_time": "2019-09-17T18:08:34.829666Z"
    }
   },
   "outputs": [
    {
     "data": {
      "text/plain": [
       "{'2a': 0,\n",
       " '2b': 1,\n",
       " '2c': 2,\n",
       " '3a': 3,\n",
       " '3b': 4,\n",
       " '3c': 5,\n",
       " '4a': 6,\n",
       " '4b': 7,\n",
       " '4c': 8}"
      ]
     },
     "execution_count": 78,
     "metadata": {},
     "output_type": "execute_result"
    }
   ],
   "source": [
    "classes = test_generator_.class_indices   \n",
    "classes"
   ]
  },
  {
   "cell_type": "code",
   "execution_count": 81,
   "metadata": {
    "ExecuteTime": {
     "end_time": "2019-09-17T18:08:39.812645Z",
     "start_time": "2019-09-17T18:08:39.747682Z"
    }
   },
   "outputs": [
    {
     "data": {
      "text/plain": [
       "array([[1]], dtype=int32)"
      ]
     },
     "execution_count": 81,
     "metadata": {},
     "output_type": "execute_result"
    }
   ],
   "source": [
    "import matplotlib as plt\n",
    "import numpy as np\n",
    "from keras.preprocessing import image\n",
    "test_image = image.load_img('/Users/fatimaloumaini/Documents/PassionProject copy/Test/3a/z2.jpg', target_size = (150, 150)) \n",
    "test_image = image.img_to_array(test_image)\n",
    "test_image = np.expand_dims(test_image, axis = 0)\n",
    "img_class = cnn.predict_classes(test_image)\n",
    "img_class"
   ]
  },
  {
   "cell_type": "code",
   "execution_count": 82,
   "metadata": {
    "ExecuteTime": {
     "end_time": "2019-09-17T18:08:43.630736Z",
     "start_time": "2019-09-17T18:08:43.622883Z"
    }
   },
   "outputs": [
    {
     "data": {
      "text/plain": [
       "array([[1.7338908 , 6.765278  , 5.250736  , 5.6292033 , 5.7725677 ,\n",
       "        2.1657865 , 1.5320477 , 2.2208643 , 0.14749503, 0.23086405,\n",
       "        6.9618106 , 3.9004397 , 2.4617171 , 5.496406  , 6.6222677 ,\n",
       "        0.4721315 , 4.4339857 , 0.10271764, 1.795414  , 7.9297895 ,\n",
       "        2.8784723 , 5.749159  , 7.9131694 , 7.1584363 , 2.4452717 ,\n",
       "        0.33357573, 0.53404045, 4.907497  , 6.771264  , 0.10758877,\n",
       "        4.7446156 , 0.32430148, 6.738212  , 0.47117686, 4.1169133 ,\n",
       "        7.038923  , 3.6971457 , 7.9079084 , 5.751144  , 7.937593  ,\n",
       "        7.2411175 , 0.13843131, 7.066474  , 1.7517555 , 7.69543   ,\n",
       "        5.660625  , 5.526524  , 1.9774303 , 7.7303486 , 5.503126  ,\n",
       "        5.4904795 , 0.6288204 , 6.3469877 , 0.95759153, 1.4010584 ,\n",
       "        3.440555  , 2.9951732 , 5.7686133 , 3.6971457 , 2.8784723 ,\n",
       "        2.4452717 , 7.9131694 , 0.4721315 , 5.503126  , 5.660625  ,\n",
       "        2.6279154 , 6.3469877 , 6.765278  , 1.9774303 , 6.771264  ,\n",
       "        1.7517555 , 2.4617171 , 4.1169133 , 2.9951735 , 5.250736  ,\n",
       "        5.7686133 , 1.795414  , 7.9361153 , 3.722475  , 6.111883  ,\n",
       "        2.1657865 , 5.1217465 , 0.23086405, 4.7446156 , 7.9079084 ,\n",
       "        0.10271764, 6.8125334 , 7.2411175 , 7.937593  , 5.366568  ]],\n",
       "      dtype=float32)"
      ]
     },
     "execution_count": 82,
     "metadata": {},
     "output_type": "execute_result"
    }
   ],
   "source": [
    "pred.T"
   ]
  },
  {
   "cell_type": "code",
   "execution_count": 240,
   "metadata": {
    "ExecuteTime": {
     "end_time": "2019-09-15T04:22:52.202273Z",
     "start_time": "2019-09-15T04:22:52.195724Z"
    },
    "scrolled": true
   },
   "outputs": [
    {
     "data": {
      "text/plain": [
       "array([[5., 3., 1., 6., 8., 0., 8., 5., 1., 4., 6., 3., 4., 7., 7., 6.,\n",
       "        1., 1., 4., 4., 5., 2., 4., 8., 8., 1., 1., 2., 3., 1., 8., 2.,\n",
       "        0., 6., 7., 7., 6., 7., 3., 8., 8., 5., 7., 1., 6., 7., 5., 8.,\n",
       "        2., 8., 5., 0., 6., 8., 1., 6., 1., 6., 4., 6., 7., 1., 4., 8.,\n",
       "        0., 3., 8., 6., 8., 2., 8., 8., 0., 1., 3., 3., 5., 1., 8., 1.,\n",
       "        6., 6., 4., 6., 7., 0., 2., 8., 4., 8.]], dtype=float32)"
      ]
     },
     "execution_count": 240,
     "metadata": {},
     "output_type": "execute_result"
    }
   ],
   "source": [
    "y_pred.T"
   ]
  },
  {
   "cell_type": "code",
   "execution_count": 241,
   "metadata": {
    "ExecuteTime": {
     "end_time": "2019-09-15T04:22:52.209856Z",
     "start_time": "2019-09-15T04:22:52.204169Z"
    }
   },
   "outputs": [
    {
     "data": {
      "text/plain": [
       "array([0, 0, 0, 0, 0, 0, 0, 0, 0, 0, 1, 1, 1, 1, 1, 1, 1, 1, 1, 1, 2, 2,\n",
       "       2, 2, 2, 2, 2, 2, 2, 2, 3, 3, 3, 3, 3, 3, 3, 3, 3, 3, 4, 4, 4, 4,\n",
       "       4, 4, 4, 4, 4, 4, 5, 5, 5, 5, 5, 5, 5, 5, 5, 5, 6, 6, 6, 6, 6, 6,\n",
       "       6, 6, 6, 6, 7, 7, 7, 7, 7, 7, 7, 7, 7, 7, 8, 8, 8, 8, 8, 8, 8, 8,\n",
       "       8, 8], dtype=int32)"
      ]
     },
     "execution_count": 241,
     "metadata": {},
     "output_type": "execute_result"
    }
   ],
   "source": [
    "y_true = test_generator_.classes\n",
    "y_true"
   ]
  },
  {
   "cell_type": "code",
   "execution_count": 242,
   "metadata": {
    "ExecuteTime": {
     "end_time": "2019-09-15T04:22:52.217968Z",
     "start_time": "2019-09-15T04:22:52.211286Z"
    }
   },
   "outputs": [
    {
     "data": {
      "text/plain": [
       "array([[1, 2, 0, 1, 1, 2, 1, 0],\n",
       "       [0, 2, 0, 1, 3, 0, 2, 2],\n",
       "       [0, 3, 2, 1, 1, 1, 0, 0],\n",
       "       [1, 0, 1, 1, 0, 0, 2, 3],\n",
       "       [0, 1, 1, 0, 0, 2, 1, 2],\n",
       "       [1, 2, 0, 0, 1, 1, 4, 0],\n",
       "       [1, 1, 1, 1, 1, 0, 1, 1],\n",
       "       [1, 3, 0, 2, 0, 1, 0, 0]])"
      ]
     },
     "execution_count": 242,
     "metadata": {},
     "output_type": "execute_result"
    }
   ],
   "source": [
    "from sklearn.metrics import confusion_matrix\n",
    "array_cm= confusion_matrix(y_true, y_pred, labels=range(8))\n",
    "array_cm\n",
    "\n"
   ]
  },
  {
   "cell_type": "code",
   "execution_count": 243,
   "metadata": {
    "ExecuteTime": {
     "end_time": "2019-09-15T04:22:52.613268Z",
     "start_time": "2019-09-15T04:22:52.219523Z"
    }
   },
   "outputs": [
    {
     "data": {
      "text/plain": [
       "<matplotlib.axes._subplots.AxesSubplot at 0x141ec8320>"
      ]
     },
     "execution_count": 243,
     "metadata": {},
     "output_type": "execute_result"
    },
    {
     "data": {
      "image/png": "[encoded data removed]",
      "text/plain": [
       "<Figure size 720x720 with 2 Axes>"
      ]
     },
     "metadata": {},
     "output_type": "display_data"
    }
   ],
   "source": [
    "import seaborn as sn\n",
    "import pandas as pd\n",
    "import matplotlib.pyplot as plt\n",
    "      \n",
    "df_cm = pd.DataFrame(array_cm, range(8),\n",
    "                  range(8))\n",
    "plt.figure(figsize = (10,10))\n",
    "sn.set(font_scale=1)#for label size\n",
    "sn.heatmap(df_cm, annot=True,annot_kws={\"size\": 16})# font size"
   ]
  },
  {
   "cell_type": "code",
   "execution_count": 83,
   "metadata": {
    "ExecuteTime": {
     "end_time": "2019-09-15T01:13:17.422550Z",
     "start_time": "2019-09-15T01:13:17.240139Z"
    }
   },
   "outputs": [
    {
     "data": {
      "image/png": "[encoded data removed]",
      "text/plain": [
       "<Figure size 288x288 with 2 Axes>"
      ]
     },
     "metadata": {
      "needs_background": "light"
     },
     "output_type": "display_data"
    }
   ],
   "source": [
    "\n",
    "\n",
    "from sklearn.metrics import confusion_matrix\n",
    "import pylab as pl\n",
    "\n",
    "\n",
    "cm = confusion_matrix(y_true, y_pred)\n",
    "pl.matshow(cm)\n",
    "pl.title('Confusion matrix of the classifier')\n",
    "pl.colorbar()\n",
    "pl.show()"
   ]
  },
  {
   "cell_type": "code",
   "execution_count": null,
   "metadata": {},
   "outputs": [],
   "source": []
  },
  {
   "cell_type": "code",
   "execution_count": 104,
   "metadata": {
    "ExecuteTime": {
     "end_time": "2019-09-15T01:24:51.034823Z",
     "start_time": "2019-09-15T01:24:51.028294Z"
    }
   },
   "outputs": [
    {
     "data": {
      "text/plain": [
       "(38,)"
      ]
     },
     "execution_count": 104,
     "metadata": {},
     "output_type": "execute_result"
    }
   ],
   "source": [
    "y_pred.shape"
   ]
  },
  {
   "cell_type": "code",
   "execution_count": 51,
   "metadata": {
    "ExecuteTime": {
     "end_time": "2019-09-15T01:01:31.058333Z",
     "start_time": "2019-09-15T01:01:30.910285Z"
    }
   },
   "outputs": [
    {
     "data": {
      "image/png": "[encoded data removed]",
      "text/plain": [
       "<Figure size 432x288 with 1 Axes>"
      ]
     },
     "metadata": {
      "needs_background": "light"
     },
     "output_type": "display_data"
    }
   ],
   "source": [
    "import matplotlib.pyplot as plt\n",
    "fig, ax = plt.subplots()\n",
    "ax.scatter(y_true, y_pred)\n",
    "ax.plot([y_true.min(), y_true.max()], [y_pred.min(), y_pred.max()], 'k--', lw=4)\n",
    "ax.set_xlabel('True class')\n",
    "ax.set_ylabel('Predicted class')\n",
    "plt.show()"
   ]
  },
  {
   "cell_type": "code",
   "execution_count": 634,
   "metadata": {
    "ExecuteTime": {
     "end_time": "2019-09-14T18:13:57.326601Z",
     "start_time": "2019-09-14T18:13:57.315885Z"
    }
   },
   "outputs": [
    {
     "data": {
      "text/plain": [
       "array([[1.],\n",
       "       [7.],\n",
       "       [8.],\n",
       "       [6.],\n",
       "       [3.],\n",
       "       [3.],\n",
       "       [7.],\n",
       "       [6.],\n",
       "       [6.],\n",
       "       [1.],\n",
       "       [6.],\n",
       "       [7.],\n",
       "       [5.],\n",
       "       [8.],\n",
       "       [7.],\n",
       "       [7.],\n",
       "       [4.],\n",
       "       [0.],\n",
       "       [7.],\n",
       "       [1.],\n",
       "       [2.],\n",
       "       [2.],\n",
       "       [0.],\n",
       "       [3.],\n",
       "       [1.],\n",
       "       [3.],\n",
       "       [7.],\n",
       "       [6.],\n",
       "       [7.],\n",
       "       [1.],\n",
       "       [8.],\n",
       "       [4.],\n",
       "       [4.],\n",
       "       [1.],\n",
       "       [3.],\n",
       "       [0.],\n",
       "       [5.],\n",
       "       [1.],\n",
       "       [0.],\n",
       "       [5.],\n",
       "       [2.],\n",
       "       [6.],\n",
       "       [6.],\n",
       "       [2.],\n",
       "       [0.],\n",
       "       [6.],\n",
       "       [5.],\n",
       "       [4.],\n",
       "       [5.],\n",
       "       [1.],\n",
       "       [0.],\n",
       "       [2.],\n",
       "       [4.],\n",
       "       [4.],\n",
       "       [6.],\n",
       "       [0.],\n",
       "       [1.],\n",
       "       [4.],\n",
       "       [6.],\n",
       "       [1.],\n",
       "       [0.],\n",
       "       [0.],\n",
       "       [5.],\n",
       "       [2.],\n",
       "       [1.],\n",
       "       [2.],\n",
       "       [5.],\n",
       "       [1.],\n",
       "       [2.],\n",
       "       [5.],\n",
       "       [2.],\n",
       "       [1.],\n",
       "       [6.],\n",
       "       [5.],\n",
       "       [5.],\n",
       "       [1.],\n",
       "       [6.],\n",
       "       [6.],\n",
       "       [1.],\n",
       "       [0.],\n",
       "       [0.],\n",
       "       [6.],\n",
       "       [6.],\n",
       "       [2.],\n",
       "       [7.],\n",
       "       [1.],\n",
       "       [1.],\n",
       "       [4.],\n",
       "       [5.],\n",
       "       [5.],\n",
       "       [3.],\n",
       "       [8.],\n",
       "       [6.],\n",
       "       [2.],\n",
       "       [0.],\n",
       "       [0.],\n",
       "       [6.],\n",
       "       [4.],\n",
       "       [6.],\n",
       "       [7.],\n",
       "       [4.],\n",
       "       [1.],\n",
       "       [5.]], dtype=float32)"
      ]
     },
     "execution_count": 634,
     "metadata": {},
     "output_type": "execute_result"
    }
   ],
   "source": [
    "filenames=test_generator_.filenames\n",
    "y_pred.T\n",
    "#results=pd.DataFrame({\"Filename\":filenames,\n",
    "   #                   \"Predictions\":predictions})\n",
    "y_pred.T.tolist()\n",
    "y_pred"
   ]
  },
  {
   "cell_type": "code",
   "execution_count": 540,
   "metadata": {
    "ExecuteTime": {
     "end_time": "2019-09-14T17:28:55.489820Z",
     "start_time": "2019-09-14T17:28:55.424493Z"
    }
   },
   "outputs": [],
   "source": [
    "from keras.models import load_model\n",
    "from keras.preprocessing import image\n",
    "\n",
    "# testing = load_model()\n",
    "\n",
    "# cnn.compile(optimizer=keras.optimizers.Adagrad(lr=0.01),\n",
    "#                   loss=['mse'],\n",
    "#                   metrics=['accuracy','mae'])\n",
    "\n",
    "test_image = image.load_img('/Users/fatimaloumaini/Documents/PassionProject/Test/3c/6.jpg', target_size = (150, 150)) \n",
    "test_image = image.img_to_array(test_image)\n",
    "test_image = np.expand_dims(test_image, axis = 0)\n",
    "\n",
    "#predict the result\n",
    "result = cnn.predict(test_image)"
   ]
  },
  {
   "cell_type": "code",
   "execution_count": 541,
   "metadata": {
    "ExecuteTime": {
     "end_time": "2019-09-14T17:28:56.689937Z",
     "start_time": "2019-09-14T17:28:56.681617Z"
    }
   },
   "outputs": [
    {
     "data": {
      "text/plain": [
       "array([[7.5199714]], dtype=float32)"
      ]
     },
     "execution_count": 541,
     "metadata": {},
     "output_type": "execute_result"
    }
   ],
   "source": [
    "result"
   ]
  },
  {
   "cell_type": "code",
   "execution_count": null,
   "metadata": {},
   "outputs": [],
   "source": []
  },
  {
   "cell_type": "code",
   "execution_count": null,
   "metadata": {},
   "outputs": [],
   "source": []
  },
  {
   "cell_type": "code",
   "execution_count": null,
   "metadata": {},
   "outputs": [],
   "source": []
  },
  {
   "cell_type": "code",
   "execution_count": 523,
   "metadata": {
    "ExecuteTime": {
     "end_time": "2019-09-14T17:05:34.640263Z",
     "start_time": "2019-09-14T17:05:34.631742Z"
    }
   },
   "outputs": [
    {
     "data": {
      "text/plain": [
       "array([[-5., -4., -8., -4., -7.,  0., -7., -1., -4., -1.,  1., -6., -6.,\n",
       "        -4.,  0., -4., -1.,  1.,  1.,  0., -4.,  0.,  0.,  0., -5., -5.,\n",
       "         2.,  1.,  2., -5.,  0., -2., -5.,  0.,  3.,  2., -4., -4.,  1.,\n",
       "        -3.,  2.,  1., -4.,  2.,  2.,  2.,  0., -3., -2., -3.,  3.,  3.,\n",
       "        -2.,  3., -4.,  0., -1., -2.,  0.,  1.,  4.,  5.,  5., -1., -3.,\n",
       "         3., -3.,  5.,  3., -1.,  0.,  4., -2., -2., -2.,  4.,  4., -1.,\n",
       "        -1.,  3.,  0., -1.,  6., -1.,  4.,  7.,  6.,  2.,  5.,  4.,  7.,\n",
       "         6.,  6.,  3.,  6.,  4.,  8.,  7.,  7.,  7.,  3.,  8.,  4.]])"
      ]
     },
     "execution_count": 523,
     "metadata": {},
     "output_type": "execute_result"
    }
   ],
   "source": [
    "y_true- y_pred.T"
   ]
  },
  {
   "cell_type": "code",
   "execution_count": 528,
   "metadata": {
    "ExecuteTime": {
     "end_time": "2019-09-14T17:21:20.389362Z",
     "start_time": "2019-09-14T17:21:20.384378Z"
    }
   },
   "outputs": [],
   "source": [
    "label_map = (test_generator_.class_indices)"
   ]
  },
  {
   "cell_type": "code",
   "execution_count": 530,
   "metadata": {
    "ExecuteTime": {
     "end_time": "2019-09-14T17:21:25.724530Z",
     "start_time": "2019-09-14T17:21:25.719053Z"
    }
   },
   "outputs": [
    {
     "data": {
      "text/plain": [
       "{'2a': 0,\n",
       " '2b': 1,\n",
       " '2c': 2,\n",
       " '3a': 3,\n",
       " '3b': 4,\n",
       " '3c': 5,\n",
       " '4a': 6,\n",
       " '4b': 7,\n",
       " '4c': 8}"
      ]
     },
     "execution_count": 530,
     "metadata": {},
     "output_type": "execute_result"
    }
   ],
   "source": [
    "label_map"
   ]
  },
  {
   "cell_type": "code",
   "execution_count": 519,
   "metadata": {
    "ExecuteTime": {
     "end_time": "2019-09-14T17:02:38.497784Z",
     "start_time": "2019-09-14T17:02:38.465332Z"
    }
   },
   "outputs": [
    {
     "name": "stdout",
     "output_type": "stream",
     "text": [
      "[[1 2 0 0 3 1 0 2 1]\n",
      " [3 3 1 0 0 3 0 2 0]\n",
      " [2 1 3 0 1 0 0 3 0]\n",
      " [1 4 2 1 0 0 1 3 1]\n",
      " [1 3 1 1 3 1 3 2 1]\n",
      " [3 1 2 0 0 1 2 1 2]\n",
      " [1 0 2 1 0 0 1 4 2]\n",
      " [2 3 1 2 0 1 0 0 0]\n",
      " [2 3 1 0 2 2 0 0 0]]\n"
     ]
    }
   ],
   "source": [
    "from sklearn.metrics import confusion_matrix\n",
    "print(confusion_matrix(y_true, y_pred))\n",
    "\n"
   ]
  },
  {
   "cell_type": "code",
   "execution_count": 471,
   "metadata": {
    "ExecuteTime": {
     "end_time": "2019-09-13T22:27:24.110937Z",
     "start_time": "2019-09-13T22:27:23.927341Z"
    }
   },
   "outputs": [
    {
     "data": {
      "text/plain": [
       "[<matplotlib.lines.Line2D at 0x18b558c88>]"
      ]
     },
     "execution_count": 471,
     "metadata": {},
     "output_type": "execute_result"
    },
    {
     "data": {
      "image/png": "[encoded data removed]",
      "text/plain": [
       "<Figure size 432x288 with 1 Axes>"
      ]
     },
     "metadata": {
      "needs_background": "light"
     },
     "output_type": "display_data"
    }
   ],
   "source": [
    "plt.plot(np.ravel(predicted_class_indices))\n",
    "\n"
   ]
  },
  {
   "cell_type": "code",
   "execution_count": 359,
   "metadata": {
    "ExecuteTime": {
     "end_time": "2019-09-13T21:07:37.322386Z",
     "start_time": "2019-09-13T21:07:37.313410Z"
    }
   },
   "outputs": [
    {
     "data": {
      "text/plain": [
       "['4b',\n",
       " '4c',\n",
       " '3a',\n",
       " '4b',\n",
       " '4a',\n",
       " '4a',\n",
       " '3b',\n",
       " '2a',\n",
       " '4b',\n",
       " '4b',\n",
       " '4b',\n",
       " '4a',\n",
       " '2a',\n",
       " '4a',\n",
       " '4a',\n",
       " '3b',\n",
       " '3b',\n",
       " '3b',\n",
       " '3a',\n",
       " '3a']"
      ]
     },
     "execution_count": 359,
     "metadata": {},
     "output_type": "execute_result"
    }
   ],
   "source": [
    "[labels[predicted_class_indices[j][0]] for j in range(20)]"
   ]
  },
  {
   "cell_type": "code",
   "execution_count": 473,
   "metadata": {
    "ExecuteTime": {
     "end_time": "2019-09-13T22:28:24.892094Z",
     "start_time": "2019-09-13T22:28:24.866802Z"
    }
   },
   "outputs": [
    {
     "ename": "TypeError",
     "evalue": "unhashable type: 'numpy.ndarray'",
     "output_type": "error",
     "traceback": [
      "\u001b[0;31m---------------------------------------------------------------------------\u001b[0m",
      "\u001b[0;31mTypeError\u001b[0m                                 Traceback (most recent call last)",
      "\u001b[0;32m<ipython-input-473-eb878c5571c8>\u001b[0m in \u001b[0;36m<module>\u001b[0;34m\u001b[0m\n\u001b[1;32m      2\u001b[0m \u001b[0mlabels\u001b[0m \u001b[0;34m=\u001b[0m \u001b[0;34m(\u001b[0m\u001b[0mtest_generator_\u001b[0m\u001b[0;34m.\u001b[0m\u001b[0mclass_indices\u001b[0m\u001b[0;34m)\u001b[0m\u001b[0;34m\u001b[0m\u001b[0;34m\u001b[0m\u001b[0m\n\u001b[1;32m      3\u001b[0m \u001b[0mlabels\u001b[0m \u001b[0;34m=\u001b[0m \u001b[0mdict\u001b[0m\u001b[0;34m(\u001b[0m\u001b[0;34m(\u001b[0m\u001b[0mv\u001b[0m\u001b[0;34m,\u001b[0m\u001b[0mk\u001b[0m\u001b[0;34m)\u001b[0m \u001b[0;32mfor\u001b[0m \u001b[0mk\u001b[0m\u001b[0;34m,\u001b[0m\u001b[0mv\u001b[0m \u001b[0;32min\u001b[0m \u001b[0mlabels\u001b[0m\u001b[0;34m.\u001b[0m\u001b[0mitems\u001b[0m\u001b[0;34m(\u001b[0m\u001b[0;34m)\u001b[0m\u001b[0;34m)\u001b[0m\u001b[0;34m\u001b[0m\u001b[0;34m\u001b[0m\u001b[0m\n\u001b[0;32m----> 4\u001b[0;31m \u001b[0mpredictions\u001b[0m \u001b[0;34m=\u001b[0m \u001b[0;34m[\u001b[0m\u001b[0mlabels\u001b[0m\u001b[0;34m[\u001b[0m\u001b[0mk\u001b[0m\u001b[0;34m]\u001b[0m \u001b[0;32mfor\u001b[0m \u001b[0mk\u001b[0m \u001b[0;32min\u001b[0m \u001b[0mpredicted_class_indices\u001b[0m\u001b[0;34m]\u001b[0m\u001b[0;34m\u001b[0m\u001b[0;34m\u001b[0m\u001b[0m\n\u001b[0m",
      "\u001b[0;32m<ipython-input-473-eb878c5571c8>\u001b[0m in \u001b[0;36m<listcomp>\u001b[0;34m(.0)\u001b[0m\n\u001b[1;32m      2\u001b[0m \u001b[0mlabels\u001b[0m \u001b[0;34m=\u001b[0m \u001b[0;34m(\u001b[0m\u001b[0mtest_generator_\u001b[0m\u001b[0;34m.\u001b[0m\u001b[0mclass_indices\u001b[0m\u001b[0;34m)\u001b[0m\u001b[0;34m\u001b[0m\u001b[0;34m\u001b[0m\u001b[0m\n\u001b[1;32m      3\u001b[0m \u001b[0mlabels\u001b[0m \u001b[0;34m=\u001b[0m \u001b[0mdict\u001b[0m\u001b[0;34m(\u001b[0m\u001b[0;34m(\u001b[0m\u001b[0mv\u001b[0m\u001b[0;34m,\u001b[0m\u001b[0mk\u001b[0m\u001b[0;34m)\u001b[0m \u001b[0;32mfor\u001b[0m \u001b[0mk\u001b[0m\u001b[0;34m,\u001b[0m\u001b[0mv\u001b[0m \u001b[0;32min\u001b[0m \u001b[0mlabels\u001b[0m\u001b[0;34m.\u001b[0m\u001b[0mitems\u001b[0m\u001b[0;34m(\u001b[0m\u001b[0;34m)\u001b[0m\u001b[0;34m)\u001b[0m\u001b[0;34m\u001b[0m\u001b[0;34m\u001b[0m\u001b[0m\n\u001b[0;32m----> 4\u001b[0;31m \u001b[0mpredictions\u001b[0m \u001b[0;34m=\u001b[0m \u001b[0;34m[\u001b[0m\u001b[0mlabels\u001b[0m\u001b[0;34m[\u001b[0m\u001b[0mk\u001b[0m\u001b[0;34m]\u001b[0m \u001b[0;32mfor\u001b[0m \u001b[0mk\u001b[0m \u001b[0;32min\u001b[0m \u001b[0mpredicted_class_indices\u001b[0m\u001b[0;34m]\u001b[0m\u001b[0;34m\u001b[0m\u001b[0;34m\u001b[0m\u001b[0m\n\u001b[0m",
      "\u001b[0;31mTypeError\u001b[0m: unhashable type: 'numpy.ndarray'"
     ]
    }
   ],
   "source": [
    "# name of the classes\n",
    "labels = (test_generator_.class_indices)\n",
    "labels = dict((v,k) for k,v in labels.items())\n",
    "predictions = [labels[k] for k in predicted_class_indices]\n",
    "\n"
   ]
  },
  {
   "cell_type": "code",
   "execution_count": 564,
   "metadata": {
    "ExecuteTime": {
     "end_time": "2019-09-14T17:45:10.207594Z",
     "start_time": "2019-09-14T17:45:10.168335Z"
    }
   },
   "outputs": [
    {
     "ename": "KeyError",
     "evalue": "2.0",
     "output_type": "error",
     "traceback": [
      "\u001b[0;31m---------------------------------------------------------------------------\u001b[0m",
      "\u001b[0;31mKeyError\u001b[0m                                  Traceback (most recent call last)",
      "\u001b[0;32m<ipython-input-564-07a399b37f8d>\u001b[0m in \u001b[0;36m<module>\u001b[0;34m\u001b[0m\n\u001b[0;32m----> 1\u001b[0;31m \u001b[0mlist\u001b[0m\u001b[0;34m(\u001b[0m\u001b[0mmap\u001b[0m\u001b[0;34m(\u001b[0m\u001b[0;32mlambda\u001b[0m \u001b[0mi\u001b[0m\u001b[0;34m:\u001b[0m \u001b[0mlabels\u001b[0m\u001b[0;34m[\u001b[0m\u001b[0mi\u001b[0m\u001b[0;34m[\u001b[0m\u001b[0;36m0\u001b[0m\u001b[0;34m]\u001b[0m\u001b[0;34m]\u001b[0m\u001b[0;34m,\u001b[0m \u001b[0mpredicted_class_indices\u001b[0m\u001b[0;34m)\u001b[0m\u001b[0;34m)\u001b[0m\u001b[0;34m\u001b[0m\u001b[0;34m\u001b[0m\u001b[0m\n\u001b[0m\u001b[1;32m      2\u001b[0m \u001b[0;34m\u001b[0m\u001b[0m\n\u001b[1;32m      3\u001b[0m \u001b[0;34m\u001b[0m\u001b[0m\n",
      "\u001b[0;32m<ipython-input-564-07a399b37f8d>\u001b[0m in \u001b[0;36m<lambda>\u001b[0;34m(i)\u001b[0m\n\u001b[0;32m----> 1\u001b[0;31m \u001b[0mlist\u001b[0m\u001b[0;34m(\u001b[0m\u001b[0mmap\u001b[0m\u001b[0;34m(\u001b[0m\u001b[0;32mlambda\u001b[0m \u001b[0mi\u001b[0m\u001b[0;34m:\u001b[0m \u001b[0mlabels\u001b[0m\u001b[0;34m[\u001b[0m\u001b[0mi\u001b[0m\u001b[0;34m[\u001b[0m\u001b[0;36m0\u001b[0m\u001b[0;34m]\u001b[0m\u001b[0;34m]\u001b[0m\u001b[0;34m,\u001b[0m \u001b[0mpredicted_class_indices\u001b[0m\u001b[0;34m)\u001b[0m\u001b[0;34m)\u001b[0m\u001b[0;34m\u001b[0m\u001b[0;34m\u001b[0m\u001b[0m\n\u001b[0m\u001b[1;32m      2\u001b[0m \u001b[0;34m\u001b[0m\u001b[0m\n\u001b[1;32m      3\u001b[0m \u001b[0;34m\u001b[0m\u001b[0m\n",
      "\u001b[0;31mKeyError\u001b[0m: 2.0"
     ]
    }
   ],
   "source": [
    "list(map(lambda i: labels[i[0]], predicted_class_indices))\n",
    "\n",
    "\n"
   ]
  },
  {
   "cell_type": "code",
   "execution_count": 337,
   "metadata": {
    "ExecuteTime": {
     "end_time": "2019-09-13T20:50:45.107667Z",
     "start_time": "2019-09-13T20:50:45.100320Z"
    }
   },
   "outputs": [
    {
     "data": {
      "text/plain": [
       "{0: '2a',\n",
       " 1: '2b',\n",
       " 2: '2c',\n",
       " 3: '3a',\n",
       " 4: '3b',\n",
       " 5: '3c',\n",
       " 6: '4a',\n",
       " 7: '4b',\n",
       " 8: '4c'}"
      ]
     },
     "execution_count": 337,
     "metadata": {},
     "output_type": "execute_result"
    }
   ],
   "source": [
    "labels"
   ]
  },
  {
   "cell_type": "code",
   "execution_count": 272,
   "metadata": {
    "ExecuteTime": {
     "end_time": "2019-09-13T18:55:38.574405Z",
     "start_time": "2019-09-13T18:55:38.570814Z"
    }
   },
   "outputs": [],
   "source": [
    "import pandas as pd"
   ]
  },
  {
   "cell_type": "code",
   "execution_count": 273,
   "metadata": {
    "ExecuteTime": {
     "end_time": "2019-09-13T18:55:39.058971Z",
     "start_time": "2019-09-13T18:55:39.040455Z"
    }
   },
   "outputs": [
    {
     "ename": "ValueError",
     "evalue": "arrays must all be same length",
     "output_type": "error",
     "traceback": [
      "\u001b[0;31m---------------------------------------------------------------------------\u001b[0m",
      "\u001b[0;31mValueError\u001b[0m                                Traceback (most recent call last)",
      "\u001b[0;32m<ipython-input-273-4dea78a706b0>\u001b[0m in \u001b[0;36m<module>\u001b[0;34m\u001b[0m\n\u001b[1;32m      1\u001b[0m \u001b[0mfilenames\u001b[0m\u001b[0;34m=\u001b[0m\u001b[0mtest_generator_\u001b[0m\u001b[0;34m.\u001b[0m\u001b[0mfilenames\u001b[0m\u001b[0;34m\u001b[0m\u001b[0;34m\u001b[0m\u001b[0m\n\u001b[1;32m      2\u001b[0m results=pd.DataFrame({\"Filename\":filenames,\n\u001b[0;32m----> 3\u001b[0;31m                       \"Predictions\":predictions})\n\u001b[0m",
      "\u001b[0;32m/anaconda3/envs/metis/lib/python3.7/site-packages/pandas/core/frame.py\u001b[0m in \u001b[0;36m__init__\u001b[0;34m(self, data, index, columns, dtype, copy)\u001b[0m\n\u001b[1;32m    408\u001b[0m             )\n\u001b[1;32m    409\u001b[0m         \u001b[0;32melif\u001b[0m \u001b[0misinstance\u001b[0m\u001b[0;34m(\u001b[0m\u001b[0mdata\u001b[0m\u001b[0;34m,\u001b[0m \u001b[0mdict\u001b[0m\u001b[0;34m)\u001b[0m\u001b[0;34m:\u001b[0m\u001b[0;34m\u001b[0m\u001b[0;34m\u001b[0m\u001b[0m\n\u001b[0;32m--> 410\u001b[0;31m             \u001b[0mmgr\u001b[0m \u001b[0;34m=\u001b[0m \u001b[0minit_dict\u001b[0m\u001b[0;34m(\u001b[0m\u001b[0mdata\u001b[0m\u001b[0;34m,\u001b[0m \u001b[0mindex\u001b[0m\u001b[0;34m,\u001b[0m \u001b[0mcolumns\u001b[0m\u001b[0;34m,\u001b[0m \u001b[0mdtype\u001b[0m\u001b[0;34m=\u001b[0m\u001b[0mdtype\u001b[0m\u001b[0;34m)\u001b[0m\u001b[0;34m\u001b[0m\u001b[0;34m\u001b[0m\u001b[0m\n\u001b[0m\u001b[1;32m    411\u001b[0m         \u001b[0;32melif\u001b[0m \u001b[0misinstance\u001b[0m\u001b[0;34m(\u001b[0m\u001b[0mdata\u001b[0m\u001b[0;34m,\u001b[0m \u001b[0mma\u001b[0m\u001b[0;34m.\u001b[0m\u001b[0mMaskedArray\u001b[0m\u001b[0;34m)\u001b[0m\u001b[0;34m:\u001b[0m\u001b[0;34m\u001b[0m\u001b[0;34m\u001b[0m\u001b[0m\n\u001b[1;32m    412\u001b[0m             \u001b[0;32mimport\u001b[0m \u001b[0mnumpy\u001b[0m\u001b[0;34m.\u001b[0m\u001b[0mma\u001b[0m\u001b[0;34m.\u001b[0m\u001b[0mmrecords\u001b[0m \u001b[0;32mas\u001b[0m \u001b[0mmrecords\u001b[0m\u001b[0;34m\u001b[0m\u001b[0;34m\u001b[0m\u001b[0m\n",
      "\u001b[0;32m/anaconda3/envs/metis/lib/python3.7/site-packages/pandas/core/internals/construction.py\u001b[0m in \u001b[0;36minit_dict\u001b[0;34m(data, index, columns, dtype)\u001b[0m\n\u001b[1;32m    255\u001b[0m             \u001b[0marr\u001b[0m \u001b[0;32mif\u001b[0m \u001b[0;32mnot\u001b[0m \u001b[0mis_datetime64tz_dtype\u001b[0m\u001b[0;34m(\u001b[0m\u001b[0marr\u001b[0m\u001b[0;34m)\u001b[0m \u001b[0;32melse\u001b[0m \u001b[0marr\u001b[0m\u001b[0;34m.\u001b[0m\u001b[0mcopy\u001b[0m\u001b[0;34m(\u001b[0m\u001b[0;34m)\u001b[0m \u001b[0;32mfor\u001b[0m \u001b[0marr\u001b[0m \u001b[0;32min\u001b[0m \u001b[0marrays\u001b[0m\u001b[0;34m\u001b[0m\u001b[0;34m\u001b[0m\u001b[0m\n\u001b[1;32m    256\u001b[0m         ]\n\u001b[0;32m--> 257\u001b[0;31m     \u001b[0;32mreturn\u001b[0m \u001b[0marrays_to_mgr\u001b[0m\u001b[0;34m(\u001b[0m\u001b[0marrays\u001b[0m\u001b[0;34m,\u001b[0m \u001b[0mdata_names\u001b[0m\u001b[0;34m,\u001b[0m \u001b[0mindex\u001b[0m\u001b[0;34m,\u001b[0m \u001b[0mcolumns\u001b[0m\u001b[0;34m,\u001b[0m \u001b[0mdtype\u001b[0m\u001b[0;34m=\u001b[0m\u001b[0mdtype\u001b[0m\u001b[0;34m)\u001b[0m\u001b[0;34m\u001b[0m\u001b[0;34m\u001b[0m\u001b[0m\n\u001b[0m\u001b[1;32m    258\u001b[0m \u001b[0;34m\u001b[0m\u001b[0m\n\u001b[1;32m    259\u001b[0m \u001b[0;34m\u001b[0m\u001b[0m\n",
      "\u001b[0;32m/anaconda3/envs/metis/lib/python3.7/site-packages/pandas/core/internals/construction.py\u001b[0m in \u001b[0;36marrays_to_mgr\u001b[0;34m(arrays, arr_names, index, columns, dtype)\u001b[0m\n\u001b[1;32m     75\u001b[0m     \u001b[0;31m# figure out the index, if necessary\u001b[0m\u001b[0;34m\u001b[0m\u001b[0;34m\u001b[0m\u001b[0;34m\u001b[0m\u001b[0m\n\u001b[1;32m     76\u001b[0m     \u001b[0;32mif\u001b[0m \u001b[0mindex\u001b[0m \u001b[0;32mis\u001b[0m \u001b[0;32mNone\u001b[0m\u001b[0;34m:\u001b[0m\u001b[0;34m\u001b[0m\u001b[0;34m\u001b[0m\u001b[0m\n\u001b[0;32m---> 77\u001b[0;31m         \u001b[0mindex\u001b[0m \u001b[0;34m=\u001b[0m \u001b[0mextract_index\u001b[0m\u001b[0;34m(\u001b[0m\u001b[0marrays\u001b[0m\u001b[0;34m)\u001b[0m\u001b[0;34m\u001b[0m\u001b[0;34m\u001b[0m\u001b[0m\n\u001b[0m\u001b[1;32m     78\u001b[0m     \u001b[0;32melse\u001b[0m\u001b[0;34m:\u001b[0m\u001b[0;34m\u001b[0m\u001b[0;34m\u001b[0m\u001b[0m\n\u001b[1;32m     79\u001b[0m         \u001b[0mindex\u001b[0m \u001b[0;34m=\u001b[0m \u001b[0mensure_index\u001b[0m\u001b[0;34m(\u001b[0m\u001b[0mindex\u001b[0m\u001b[0;34m)\u001b[0m\u001b[0;34m\u001b[0m\u001b[0;34m\u001b[0m\u001b[0m\n",
      "\u001b[0;32m/anaconda3/envs/metis/lib/python3.7/site-packages/pandas/core/internals/construction.py\u001b[0m in \u001b[0;36mextract_index\u001b[0;34m(data)\u001b[0m\n\u001b[1;32m    366\u001b[0m             \u001b[0mlengths\u001b[0m \u001b[0;34m=\u001b[0m \u001b[0mlist\u001b[0m\u001b[0;34m(\u001b[0m\u001b[0mset\u001b[0m\u001b[0;34m(\u001b[0m\u001b[0mraw_lengths\u001b[0m\u001b[0;34m)\u001b[0m\u001b[0;34m)\u001b[0m\u001b[0;34m\u001b[0m\u001b[0;34m\u001b[0m\u001b[0m\n\u001b[1;32m    367\u001b[0m             \u001b[0;32mif\u001b[0m \u001b[0mlen\u001b[0m\u001b[0;34m(\u001b[0m\u001b[0mlengths\u001b[0m\u001b[0;34m)\u001b[0m \u001b[0;34m>\u001b[0m \u001b[0;36m1\u001b[0m\u001b[0;34m:\u001b[0m\u001b[0;34m\u001b[0m\u001b[0;34m\u001b[0m\u001b[0m\n\u001b[0;32m--> 368\u001b[0;31m                 \u001b[0;32mraise\u001b[0m \u001b[0mValueError\u001b[0m\u001b[0;34m(\u001b[0m\u001b[0;34m\"arrays must all be same length\"\u001b[0m\u001b[0;34m)\u001b[0m\u001b[0;34m\u001b[0m\u001b[0;34m\u001b[0m\u001b[0m\n\u001b[0m\u001b[1;32m    369\u001b[0m \u001b[0;34m\u001b[0m\u001b[0m\n\u001b[1;32m    370\u001b[0m             \u001b[0;32mif\u001b[0m \u001b[0mhave_dicts\u001b[0m\u001b[0;34m:\u001b[0m\u001b[0;34m\u001b[0m\u001b[0;34m\u001b[0m\u001b[0m\n",
      "\u001b[0;31mValueError\u001b[0m: arrays must all be same length"
     ]
    }
   ],
   "source": [
    "filenames=test_generator_.filenames\n",
    "results=pd.DataFrame({\"Filename\":filenames,\n",
    "                      \"Predictions\":predictions})\n",
    "\n"
   ]
  }
 ],
 "metadata": {
  "kernelspec": {
   "display_name": "metis",
   "language": "python",
   "name": "metis"
  },
  "language_info": {
   "codemirror_mode": {
    "name": "ipython",
    "version": 3
   },
   "file_extension": ".py",
   "mimetype": "text/x-python",
   "name": "python",
   "nbconvert_exporter": "python",
   "pygments_lexer": "ipython3",
   "version": "3.7.3"
  },
  "toc": {
   "base_numbering": 1,
   "nav_menu": {},
   "number_sections": true,
   "sideBar": true,
   "skip_h1_title": false,
   "title_cell": "Table of Contents",
   "title_sidebar": "Contents",
   "toc_cell": true,
   "toc_position": {},
   "toc_section_display": true,
   "toc_window_display": false
  }
 },
 "nbformat": 4,
 "nbformat_minor": 2
}
